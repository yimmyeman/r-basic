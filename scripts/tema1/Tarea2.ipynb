{
 "cells": [
  {
   "cell_type": "markdown",
   "id": "6b1fd52c",
   "metadata": {},
   "source": [
    "Escribe una secuencia de instrucciones que permitan leer un número real por pantalla y que muestre si el\n",
    "número es positivo o no."
   ]
  },
  {
   "cell_type": "code",
   "execution_count": 12,
   "id": "affcd6fa",
   "metadata": {
    "ExecuteTime": {
     "end_time": "2022-05-30T11:49:03.777773Z",
     "start_time": "2022-05-30T11:49:02.328254Z"
    }
   },
   "outputs": [
    {
     "name": "stdout",
     "output_type": "stream",
     "text": [
      "Introduce un numero: \n",
      "None0\n",
      "El numero es 0\n"
     ]
    }
   ],
   "source": [
    "numero = float(input(print(\"Introduce un numero: \")))\n",
    "if numero > 0:\n",
    "    print(\"El numero es positivo\")\n",
    "elif numero < 0:\n",
    "    print(\"El numero es negativo\")\n",
    "elif numero == 0:\n",
    "    print(\"El numero no es positivo ni negativo\")"
   ]
  },
  {
   "cell_type": "code",
   "execution_count": null,
   "id": "d8d83aa9",
   "metadata": {},
   "outputs": [],
   "source": [
    "Escribe una secuencia de instrucciones que permitan leer un número real por pantalla y que muestre si el\n",
    "número está en el rango entre −5 y 5, ambos incluidos."
   ]
  },
  {
   "cell_type": "code",
   "execution_count": 17,
   "id": "89a399e1",
   "metadata": {
    "ExecuteTime": {
     "end_time": "2022-05-30T11:51:16.554292Z",
     "start_time": "2022-05-30T11:51:14.577380Z"
    }
   },
   "outputs": [
    {
     "name": "stdout",
     "output_type": "stream",
     "text": [
      "Introduce un numero: \n",
      "None10\n",
      "El numero NO se encuentra en el intervalo [-5,5]\n"
     ]
    }
   ],
   "source": [
    "numero = float(input(print(\"Introduce un numero: \")))\n",
    "if numero >= -5 and numero <= 5:\n",
    "    print(\"El numero se encuentra en el intervalo [-5,5]\")\n",
    "else:\n",
    "    print(\"El numero NO se encuentra en el intervalo [-5,5]\")"
   ]
  },
  {
   "cell_type": "markdown",
   "id": "59b09d66",
   "metadata": {},
   "source": [
    "Escribe una secuencia de instrucciones que permitan leer las coordenadas de un punto (x, y) e indique en\n",
    "cuál de los cuatro cuadrantes se encuentra dicho punto.\n",
    "Si x = 0, deberás indicar que el punto se encuentra sobre el eje vertical.\n",
    "Si y = 0, deberás indicar que el punto se encuentra sobre el eje horizontal.\n",
    "Si tanto x = 0 como y = 0, entonces deberás indicar que el punto se trata del origen de coordenadas."
   ]
  },
  {
   "cell_type": "code",
   "execution_count": 42,
   "id": "cb5e473a",
   "metadata": {
    "ExecuteTime": {
     "end_time": "2022-05-30T12:07:01.997591Z",
     "start_time": "2022-05-30T12:06:59.827943Z"
    }
   },
   "outputs": [
    {
     "name": "stdout",
     "output_type": "stream",
     "text": [
      "Introduce la coordenada X: \n",
      "None0\n",
      "Introduce la coordenada Y: \n",
      "None0\n",
      "Introduciste las Coordendas: (0,0)\n",
      "El punto se encuentra en el origen\n"
     ]
    }
   ],
   "source": [
    "coordenada_X = int(input(print(\"Introduce la coordenada X: \")))\n",
    "coordenada_Y = int(input(print(\"Introduce la coordenada Y: \")))\n",
    "print(\"Introduciste las Coordendas: ({},{})\".format(coordenada_X, coordenada_Y))\n",
    "if coordenada_X == 0 and coordenada_Y != 0:\n",
    "    print(\"El punto se encuentra sobre el eje Y\")\n",
    "elif coordenada_Y == 0 and coordenada_X !=0:\n",
    "    print(\"El punto se encuentra sobre el eje X\")\n",
    "elif coordenada_X == 0 and coordenada_Y == 0:\n",
    "    print(\"El punto se encuentra en el origen\")"
   ]
  },
  {
   "cell_type": "code",
   "execution_count": null,
   "id": "4946533f",
   "metadata": {},
   "outputs": [],
   "source": [
    "Escribe una secuencia de instrucciones que permitan leer dos números enteros y muestre el cociente de la\n",
    "división entera y el resto de la división entera."
   ]
  },
  {
   "cell_type": "code",
   "execution_count": 50,
   "id": "834eb1a9",
   "metadata": {
    "ExecuteTime": {
     "end_time": "2022-05-30T12:14:02.348668Z",
     "start_time": "2022-05-30T12:14:00.016439Z"
    }
   },
   "outputs": [
    {
     "name": "stdout",
     "output_type": "stream",
     "text": [
      "Introduce el entero 1: \n",
      "None2\n",
      "Introduce el entero 2: \n",
      "None3\n",
      "El cociente de a/b es: 0\n",
      "El resto de a/b es: 2\n"
     ]
    }
   ],
   "source": [
    "a = int(input(print(\"Introduce el entero 1: \")))\n",
    "b = int(input(print(\"Introduce el entero 2: \")))\n",
    "\n",
    "if b==0:\n",
    "    print(\"No se puede divir entre 0\")\n",
    "else:\n",
    "    print(\"El cociente de a/b es: {}\".format(a//b))\n",
    "    print(\"El resto de a/b es: {}\".format(a%b))"
   ]
  },
  {
   "cell_type": "code",
   "execution_count": 46,
   "id": "3fa2b87f",
   "metadata": {
    "ExecuteTime": {
     "end_time": "2022-05-30T12:11:06.537314Z",
     "start_time": "2022-05-30T12:11:06.529314Z"
    }
   },
   "outputs": [
    {
     "data": {
      "text/plain": [
       "1"
      ]
     },
     "execution_count": 46,
     "metadata": {},
     "output_type": "execute_result"
    }
   ],
   "source": [
    "Escribe una secuencia de instrucciones que permitan leer un número entero y determinar si es cuadrado\n",
    "perfecto o no (piensa la mejor forma de hacerlo con lo que has aprendido hasta ahora)."
   ]
  },
  {
   "cell_type": "code",
   "execution_count": 63,
   "id": "2855472a",
   "metadata": {
    "ExecuteTime": {
     "end_time": "2022-05-30T13:48:11.929565Z",
     "start_time": "2022-05-30T13:48:09.815595Z"
    }
   },
   "outputs": [
    {
     "name": "stdout",
     "output_type": "stream",
     "text": [
      "Introduce un numero: \n",
      "None100\n",
      "100 es un cuadrado perfecto\n"
     ]
    }
   ],
   "source": [
    "import math\n",
    "numero = int(input(print(\"Introduce un numero: \")))\n",
    "if numero % math.sqrt(numero) == 0:\n",
    "    print(\"{} es un cuadrado perfecto\".format(numero))\n",
    "else: \n",
    "    print(\"{} No es un cuadrado perfecto\".format(numero))"
   ]
  },
  {
   "cell_type": "markdown",
   "id": "28cea553",
   "metadata": {},
   "source": [
    "Escribe una expresión que permita determinar si un número entero positivo puede corresponder a un año\n",
    "bisiesto o no. Se consideran años bisiestos aquellos cuyo número es divisible por cuatro excepto los años que\n",
    "son múltiplos de 100, a no ser que lo sean de 400 (por ejemplo el año 2000 fue bisiesto pero el 2100 no lo\n",
    "será)."
   ]
  },
  {
   "cell_type": "code",
   "execution_count": 96,
   "id": "f72674a7",
   "metadata": {
    "ExecuteTime": {
     "end_time": "2022-05-30T14:12:55.067645Z",
     "start_time": "2022-05-30T14:12:52.633140Z"
    }
   },
   "outputs": [
    {
     "name": "stdout",
     "output_type": "stream",
     "text": [
      "Introduce un numero entero positivo: \n",
      "None210\n",
      "210 No es un año bisiesto\n"
     ]
    }
   ],
   "source": [
    "# Un número es divisible entre 4 cuando el número formado por sus dos últimas cifras es divisibles entre 4.\n",
    "\n",
    "numero = input(print(\"Introduce un numero entero positivo: \"))\n",
    "\n",
    "if len(numero)>1:\n",
    "    if int((numero)[-2:]) % 4 == 0 and int(numero) % 400 == 0:\n",
    "        print(\"{} es un año bisiesto\".format(numero))\n",
    "    elif int((numero)[-2:]) % 4 == 0 and int(numero) % 100 != 0:\n",
    "        print(\"{} es un año bisiesto\".format(numero))\n",
    "    else:\n",
    "        print(\"{} No es un año bisiesto\".format(numero))\n",
    "else:\n",
    "    if int(numero) % 4 == 0 and int(numero) % 400 == 0:\n",
    "        print(\"{} es un año bisiesto\".format(numero))\n",
    "    elif int(numero) % 4 == 0 and int(numero) % 100 != 0:\n",
    "        print(\"{} es un año bisiesto\".format(numero))\n",
    "    else:\n",
    "        print(\"{} No es un año bisiesto\".format(numero))\n"
   ]
  },
  {
   "cell_type": "markdown",
   "id": "77f05f1d",
   "metadata": {},
   "source": [
    "Busca la imagen de un tablero de ajedrez en Google y fíjate en la nomenclatura de las casillas. Escribe una\n",
    "secuencia que lea una letra y un número de teclado correspondiente a una casilla de un tablero de ajedrez y\n",
    "que indique si esta casilla es negra o blanca."
   ]
  },
  {
   "cell_type": "code",
   "execution_count": 119,
   "id": "fd12439b",
   "metadata": {
    "ExecuteTime": {
     "end_time": "2022-05-30T14:40:37.351473Z",
     "start_time": "2022-05-30T14:40:29.367253Z"
    }
   },
   "outputs": [
    {
     "name": "stdout",
     "output_type": "stream",
     "text": [
      "Introduce coordendas del tablero ej. a1, b3, h8\n",
      "Nonee7\n",
      "La casilla es negra\n"
     ]
    }
   ],
   "source": [
    "casilla = input(print(\"Introduce coordendas del tablero ej. a1, b3, h8\")).lower()\n",
    "\n",
    "if casilla[0] == \"a\" or casilla[0] == \"c\" or casilla[0] == \"e\" or casilla[0] == \"g\":\n",
    "    if int(casilla[-1]) % 2 == 0:\n",
    "        print(\"La casilla es blanca\")\n",
    "    else: \n",
    "        print(\"La casilla es negra\")\n",
    "else:\n",
    "    if int(casilla[-1]) % 2 == 0:\n",
    "        print(\"La casilla es negra\")\n",
    "    else: \n",
    "        print(\"La casilla es blanca\")"
   ]
  },
  {
   "cell_type": "code",
   "execution_count": null,
   "id": "226ced04",
   "metadata": {},
   "outputs": [],
   "source": []
  }
 ],
 "metadata": {
  "kernelspec": {
   "display_name": "Python 3 (ipykernel)",
   "language": "python",
   "name": "python3"
  },
  "language_info": {
   "codemirror_mode": {
    "name": "ipython",
    "version": 3
   },
   "file_extension": ".py",
   "mimetype": "text/x-python",
   "name": "python",
   "nbconvert_exporter": "python",
   "pygments_lexer": "ipython3",
   "version": "3.9.12"
  },
  "toc": {
   "base_numbering": 1,
   "nav_menu": {},
   "number_sections": true,
   "sideBar": true,
   "skip_h1_title": false,
   "title_cell": "Table of Contents",
   "title_sidebar": "Contents",
   "toc_cell": false,
   "toc_position": {},
   "toc_section_display": true,
   "toc_window_display": false
  },
  "varInspector": {
   "cols": {
    "lenName": 16,
    "lenType": 16,
    "lenVar": 40
   },
   "kernels_config": {
    "python": {
     "delete_cmd_postfix": "",
     "delete_cmd_prefix": "del ",
     "library": "var_list.py",
     "varRefreshCmd": "print(var_dic_list())"
    },
    "r": {
     "delete_cmd_postfix": ") ",
     "delete_cmd_prefix": "rm(",
     "library": "var_list.r",
     "varRefreshCmd": "cat(var_dic_list()) "
    }
   },
   "types_to_exclude": [
    "module",
    "function",
    "builtin_function_or_method",
    "instance",
    "_Feature"
   ],
   "window_display": false
  }
 },
 "nbformat": 4,
 "nbformat_minor": 5
}

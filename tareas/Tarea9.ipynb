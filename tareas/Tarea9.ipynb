{
 "cells": [
  {
   "cell_type": "markdown",
   "id": "55b49519",
   "metadata": {},
   "source": [
    "# Pregunta 1"
   ]
  },
  {
   "cell_type": "code",
   "execution_count": 4,
   "id": "a88c3a75",
   "metadata": {
    "ExecuteTime": {
     "end_time": "2022-07-04T12:14:20.877725Z",
     "start_time": "2022-07-04T12:14:20.847669Z"
    }
   },
   "outputs": [
    {
     "data": {
      "text/html": [
       "<div>\n",
       "<style scoped>\n",
       "    .dataframe tbody tr th:only-of-type {\n",
       "        vertical-align: middle;\n",
       "    }\n",
       "\n",
       "    .dataframe tbody tr th {\n",
       "        vertical-align: top;\n",
       "    }\n",
       "\n",
       "    .dataframe thead th {\n",
       "        text-align: right;\n",
       "    }\n",
       "</style>\n",
       "<table border=\"1\" class=\"dataframe\">\n",
       "  <thead>\n",
       "    <tr style=\"text-align: right;\">\n",
       "      <th></th>\n",
       "      <th>Unnamed: 0</th>\n",
       "      <th>pulso.antes</th>\n",
       "      <th>pulso.despues</th>\n",
       "      <th>hace.deporte</th>\n",
       "      <th>fuma</th>\n",
       "      <th>genero</th>\n",
       "      <th>altura</th>\n",
       "      <th>peso</th>\n",
       "      <th>tipo.actividad</th>\n",
       "    </tr>\n",
       "  </thead>\n",
       "  <tbody>\n",
       "    <tr>\n",
       "      <th>0</th>\n",
       "      <td>1</td>\n",
       "      <td>48</td>\n",
       "      <td>54</td>\n",
       "      <td>no</td>\n",
       "      <td>si</td>\n",
       "      <td>H</td>\n",
       "      <td>68.0</td>\n",
       "      <td>150</td>\n",
       "      <td>nula</td>\n",
       "    </tr>\n",
       "    <tr>\n",
       "      <th>1</th>\n",
       "      <td>2</td>\n",
       "      <td>54</td>\n",
       "      <td>56</td>\n",
       "      <td>no</td>\n",
       "      <td>si</td>\n",
       "      <td>H</td>\n",
       "      <td>69.0</td>\n",
       "      <td>145</td>\n",
       "      <td>moderada</td>\n",
       "    </tr>\n",
       "    <tr>\n",
       "      <th>2</th>\n",
       "      <td>3</td>\n",
       "      <td>54</td>\n",
       "      <td>50</td>\n",
       "      <td>no</td>\n",
       "      <td>no</td>\n",
       "      <td>H</td>\n",
       "      <td>69.0</td>\n",
       "      <td>160</td>\n",
       "      <td>moderada</td>\n",
       "    </tr>\n",
       "    <tr>\n",
       "      <th>3</th>\n",
       "      <td>4</td>\n",
       "      <td>58</td>\n",
       "      <td>70</td>\n",
       "      <td>si</td>\n",
       "      <td>no</td>\n",
       "      <td>H</td>\n",
       "      <td>72.0</td>\n",
       "      <td>145</td>\n",
       "      <td>moderada</td>\n",
       "    </tr>\n",
       "    <tr>\n",
       "      <th>4</th>\n",
       "      <td>5</td>\n",
       "      <td>58</td>\n",
       "      <td>58</td>\n",
       "      <td>no</td>\n",
       "      <td>no</td>\n",
       "      <td>H</td>\n",
       "      <td>66.0</td>\n",
       "      <td>135</td>\n",
       "      <td>intensa</td>\n",
       "    </tr>\n",
       "  </tbody>\n",
       "</table>\n",
       "</div>"
      ],
      "text/plain": [
       "   Unnamed: 0  pulso.antes  pulso.despues  ... altura peso tipo.actividad\n",
       "0           1           48             54  ...   68.0  150           nula\n",
       "1           2           54             56  ...   69.0  145       moderada\n",
       "2           3           54             50  ...   69.0  160       moderada\n",
       "3           4           58             70  ...   72.0  145       moderada\n",
       "4           5           58             58  ...   66.0  135        intensa\n",
       "\n",
       "[5 rows x 9 columns]"
      ]
     },
     "execution_count": 4,
     "metadata": {},
     "output_type": "execute_result"
    }
   ],
   "source": [
    "import pandas as pd\n",
    "\n",
    "df = pd.read_csv(\"../data/run.csv\")\n",
    "df.head()"
   ]
  },
  {
   "cell_type": "code",
   "execution_count": 2,
   "id": "40c8dc5e",
   "metadata": {
    "ExecuteTime": {
     "end_time": "2022-07-04T12:13:50.418839Z",
     "start_time": "2022-07-04T12:13:50.398767Z"
    }
   },
   "outputs": [
    {
     "data": {
      "text/plain": [
       "92"
      ]
     },
     "execution_count": 2,
     "metadata": {},
     "output_type": "execute_result"
    }
   ],
   "source": [
    "df.shape[0]"
   ]
  },
  {
   "cell_type": "markdown",
   "id": "7c198c21",
   "metadata": {},
   "source": [
    "# Pregunta 2"
   ]
  },
  {
   "cell_type": "code",
   "execution_count": 5,
   "id": "ea8659bf",
   "metadata": {
    "ExecuteTime": {
     "end_time": "2022-07-04T12:14:40.747877Z",
     "start_time": "2022-07-04T12:14:40.736717Z"
    }
   },
   "outputs": [
    {
     "data": {
      "text/plain": [
       "H    57\n",
       "M    35\n",
       "Name: genero, dtype: int64"
      ]
     },
     "execution_count": 5,
     "metadata": {},
     "output_type": "execute_result"
    }
   ],
   "source": [
    "df[\"genero\"].value_counts()"
   ]
  },
  {
   "cell_type": "markdown",
   "id": "8e888ed4",
   "metadata": {},
   "source": [
    "# Pregunta 3"
   ]
  },
  {
   "cell_type": "code",
   "execution_count": 9,
   "id": "9a67d189",
   "metadata": {
    "ExecuteTime": {
     "end_time": "2022-07-04T12:15:36.776520Z",
     "start_time": "2022-07-04T12:15:36.770718Z"
    }
   },
   "outputs": [],
   "source": [
    "df[\"PMV\"]=(df[\"pulso.despues\"]-df[\"pulso.antes\"])/df[\"pulso.antes\"]"
   ]
  },
  {
   "cell_type": "code",
   "execution_count": 10,
   "id": "239b09b5",
   "metadata": {
    "ExecuteTime": {
     "end_time": "2022-07-04T12:15:37.046067Z",
     "start_time": "2022-07-04T12:15:37.038031Z"
    }
   },
   "outputs": [
    {
     "data": {
      "text/plain": [
       "hace.deporte\n",
       "no    0.002095\n",
       "si    0.262154\n",
       "Name: PMV, dtype: float64"
      ]
     },
     "execution_count": 10,
     "metadata": {},
     "output_type": "execute_result"
    }
   ],
   "source": [
    "df.groupby(\"hace.deporte\")[\"PMV\"].mean()"
   ]
  },
  {
   "cell_type": "markdown",
   "id": "917b6bef",
   "metadata": {},
   "source": [
    "# Pregunta 4"
   ]
  },
  {
   "cell_type": "code",
   "execution_count": 11,
   "id": "d74cf810",
   "metadata": {
    "ExecuteTime": {
     "end_time": "2022-07-04T12:16:38.158594Z",
     "start_time": "2022-07-04T12:16:38.144644Z"
    }
   },
   "outputs": [
    {
     "data": {
      "text/plain": [
       "genero\n",
       "H    0.191769\n",
       "M    0.415722\n",
       "Name: PMV, dtype: float64"
      ]
     },
     "execution_count": 11,
     "metadata": {},
     "output_type": "execute_result"
    }
   ],
   "source": [
    "df[df[\"hace.deporte\"] == \"si\"].groupby(\"genero\")[\"PMV\"].mean()"
   ]
  },
  {
   "cell_type": "markdown",
   "id": "43f10870",
   "metadata": {},
   "source": [
    "# Pregunta 5"
   ]
  },
  {
   "cell_type": "code",
   "execution_count": 12,
   "id": "eaf7d494",
   "metadata": {
    "ExecuteTime": {
     "end_time": "2022-07-04T12:17:14.200472Z",
     "start_time": "2022-07-04T12:17:14.188502Z"
    }
   },
   "outputs": [
    {
     "data": {
      "text/plain": [
       "fuma\n",
       "no   -0.000648\n",
       "si    0.009122\n",
       "Name: PMV, dtype: float64"
      ]
     },
     "execution_count": 12,
     "metadata": {},
     "output_type": "execute_result"
    }
   ],
   "source": [
    "df[df[\"hace.deporte\"]==\"no\"].groupby(\"fuma\")[\"PMV\"].mean()"
   ]
  },
  {
   "cell_type": "markdown",
   "id": "6acc4055",
   "metadata": {},
   "source": [
    "# Pregunta 6"
   ]
  },
  {
   "cell_type": "code",
   "execution_count": 13,
   "id": "0c14bc37",
   "metadata": {
    "ExecuteTime": {
     "end_time": "2022-07-04T12:17:31.433255Z",
     "start_time": "2022-07-04T12:17:31.424443Z"
    }
   },
   "outputs": [
    {
     "data": {
      "text/plain": [
       "tipo.actividad\n",
       "intensa     0.013475\n",
       "moderada    0.140157\n",
       "nula        0.125000\n",
       "suave       0.037472\n",
       "Name: PMV, dtype: float64"
      ]
     },
     "execution_count": 13,
     "metadata": {},
     "output_type": "execute_result"
    }
   ],
   "source": [
    "df.groupby(\"tipo.actividad\")[\"PMV\"].mean()"
   ]
  },
  {
   "cell_type": "code",
   "execution_count": null,
   "id": "614d2d9b",
   "metadata": {},
   "outputs": [],
   "source": []
  }
 ],
 "metadata": {
  "kernelspec": {
   "display_name": "Python 3 (ipykernel)",
   "language": "python",
   "name": "python3"
  },
  "language_info": {
   "codemirror_mode": {
    "name": "ipython",
    "version": 3
   },
   "file_extension": ".py",
   "mimetype": "text/x-python",
   "name": "python",
   "nbconvert_exporter": "python",
   "pygments_lexer": "ipython3",
   "version": "3.9.12"
  },
  "toc": {
   "base_numbering": 1,
   "nav_menu": {},
   "number_sections": true,
   "sideBar": true,
   "skip_h1_title": false,
   "title_cell": "Table of Contents",
   "title_sidebar": "Contents",
   "toc_cell": false,
   "toc_position": {},
   "toc_section_display": true,
   "toc_window_display": false
  },
  "varInspector": {
   "cols": {
    "lenName": 16,
    "lenType": 16,
    "lenVar": 40
   },
   "kernels_config": {
    "python": {
     "delete_cmd_postfix": "",
     "delete_cmd_prefix": "del ",
     "library": "var_list.py",
     "varRefreshCmd": "print(var_dic_list())"
    },
    "r": {
     "delete_cmd_postfix": ") ",
     "delete_cmd_prefix": "rm(",
     "library": "var_list.r",
     "varRefreshCmd": "cat(var_dic_list()) "
    }
   },
   "types_to_exclude": [
    "module",
    "function",
    "builtin_function_or_method",
    "instance",
    "_Feature"
   ],
   "window_display": false
  }
 },
 "nbformat": 4,
 "nbformat_minor": 5
}

{
 "cells": [
  {
   "cell_type": "markdown",
   "id": "8cfcb5f8",
   "metadata": {},
   "source": [
    "# Tarea 5 - Programando con Python"
   ]
  },
  {
   "cell_type": "markdown",
   "id": "9d914bca",
   "metadata": {},
   "source": [
    "## Pregunta 1\n",
    "Crea una función que reciba los tres coeficientes a, b y c para resolver una ecuación de segundo grado. Muestra la solución por pantalla y ayúdate de la librería math para acceder a la función raíz cuadrada."
   ]
  },
  {
   "cell_type": "code",
   "execution_count": 1,
   "id": "eeca94c7",
   "metadata": {
    "ExecuteTime": {
     "end_time": "2022-07-02T23:59:33.695369Z",
     "start_time": "2022-07-02T23:59:33.686403Z"
    }
   },
   "outputs": [],
   "source": [
    "import math\n",
    "def ec2g(A,B,C):\n",
    "    x1 = (-B + math.sqrt((-B)**2 - 4*A*C))/(2*A)\n",
    "    x2 = (-B - math.sqrt((-B)**2 - 4*A*C))/(2*A)\n",
    "    sol = (x1,x2)\n",
    "    return sol"
   ]
  },
  {
   "cell_type": "code",
   "execution_count": 2,
   "id": "536dd834",
   "metadata": {
    "ExecuteTime": {
     "end_time": "2022-07-03T00:00:03.578577Z",
     "start_time": "2022-07-03T00:00:03.562901Z"
    }
   },
   "outputs": [
    {
     "data": {
      "text/plain": [
       "(-0.3333333333333333, 1.0)"
      ]
     },
     "execution_count": 2,
     "metadata": {},
     "output_type": "execute_result"
    }
   ],
   "source": [
    "ec2g(-3,2,1)"
   ]
  },
  {
   "cell_type": "markdown",
   "id": "e3883e64",
   "metadata": {},
   "source": [
    "## Pregunta 2\n",
    "Crea una función que lea una frase de teclado y nos diga si es o no un palíndromo (frase que se lee igual de izquierda a derecha o al revés como por ejemplo “La ruta nos aportó otro paso natural”)."
   ]
  },
  {
   "cell_type": "code",
   "execution_count": 15,
   "id": "9887162d",
   "metadata": {
    "ExecuteTime": {
     "end_time": "2022-07-03T00:13:04.884960Z",
     "start_time": "2022-07-03T00:13:04.879019Z"
    }
   },
   "outputs": [],
   "source": [
    "def isPalindrome(frase):\n",
    "    Palindrome = False\n",
    "    frase = frase.lower()\n",
    "    lista_frase = frase.split(\" \")\n",
    "    frase_sin_spacio = \"\"\n",
    "    for l in lista_frase:\n",
    "        frase_sin_spacio += l\n",
    "    for l in range(len(frase_sin_spacio)):\n",
    "        if frase_sin_spacio == frase_sin_spacio[::-1]:\n",
    "            Palindrome = True\n",
    "            return Palindrome\n",
    "    return Palindrome"
   ]
  },
  {
   "cell_type": "code",
   "execution_count": 20,
   "id": "3bf47cb2",
   "metadata": {
    "ExecuteTime": {
     "end_time": "2022-07-03T00:13:48.480531Z",
     "start_time": "2022-07-03T00:13:48.476637Z"
    }
   },
   "outputs": [
    {
     "name": "stdout",
     "output_type": "stream",
     "text": [
      "True\n"
     ]
    }
   ],
   "source": [
    "print(isPalindrome(\"La ruta nos aporto otro paso natural\"))"
   ]
  },
  {
   "cell_type": "code",
   "execution_count": 21,
   "id": "9e36c93a",
   "metadata": {
    "ExecuteTime": {
     "end_time": "2022-07-03T00:14:28.423058Z",
     "start_time": "2022-07-03T00:14:28.418646Z"
    }
   },
   "outputs": [
    {
     "name": "stdout",
     "output_type": "stream",
     "text": [
      "True\n"
     ]
    }
   ],
   "source": [
    "print(isPalindrome(\"Dabale arroz a la zorra el abad\"))"
   ]
  },
  {
   "cell_type": "markdown",
   "id": "19f8328b",
   "metadata": {},
   "source": [
    "## Pregunta 3\n",
    "Crea un diccionario que tenga por claves los números del 1 al 10 y como valores sus raíces cuadradas."
   ]
  },
  {
   "cell_type": "code",
   "execution_count": 22,
   "id": "fb785a1d",
   "metadata": {
    "ExecuteTime": {
     "end_time": "2022-07-03T00:16:07.505260Z",
     "start_time": "2022-07-03T00:16:07.500480Z"
    }
   },
   "outputs": [
    {
     "name": "stdout",
     "output_type": "stream",
     "text": [
      "{1: 1.0, 2: 1.4142135623730951, 3: 1.7320508075688772, 4: 2.0, 5: 2.23606797749979, 6: 2.449489742783178, 7: 2.6457513110645907, 8: 2.8284271247461903, 9: 3.0, 10: 3.1622776601683795}\n"
     ]
    }
   ],
   "source": [
    "dicc = {}\n",
    "\n",
    "for i in range(1,11):\n",
    "    dicc[i] = math.sqrt(i)\n",
    "print(dicc)"
   ]
  },
  {
   "cell_type": "markdown",
   "id": "8716c8a4",
   "metadata": {},
   "source": [
    "## Pregunta 4\n",
    "Crea un diccionario que tenga como claves las letras del alfabeto castellano y como valores los símbolos del código morse (los tienes todos en la Wikipedia). A continuación crea una función que lea una frase del teclado y te la convierta a morse utilizando el diccionario anterior.\n"
   ]
  },
  {
   "cell_type": "code",
   "execution_count": 31,
   "id": "f9823396",
   "metadata": {
    "ExecuteTime": {
     "end_time": "2022-07-03T00:27:44.680791Z",
     "start_time": "2022-07-03T00:27:44.668676Z"
    }
   },
   "outputs": [],
   "source": [
    "morse={\"a\": \".-\", \"b\": \"-...\", \"c\": \"-.-.\", \"d\": \"-..\", \"e\": \".\",\n",
    "       \"f\": \"..-.\", \"g\": \"--.\", \"h\": \"....\", \"i\": \"..\", \n",
    "       \"j\": \".---\",\"k\": \"-.-\", \"l\": \".-..\", \"m\": \"--\", \"n\": \"-.\", \n",
    "       \"o\": \"---\",\"p\": \".--.\", \"q\": \"--.-\", \"r\": \".-.\", \"s\": \"...\", \n",
    "       \"t\": \"-\",\"u\": \"..-\", \"v\": \"...-\", \"w\": \".--\", \"x\": \"-..-\", \n",
    "       \"y\": \"-.--\",\"z\": \"--..\"}\n",
    "\n",
    "def toMorse():\n",
    "    s = input(\"Introduce una frase: \")\n",
    "    s = s.lower()\n",
    "    message = \"\"\n",
    "    for c in s:\n",
    "        if c == \" \":\n",
    "            message += c\n",
    "            continue\n",
    "        message += morse[c] + \" \"\n",
    "    return message"
   ]
  },
  {
   "cell_type": "code",
   "execution_count": 33,
   "id": "ff2e2a2b",
   "metadata": {
    "ExecuteTime": {
     "end_time": "2022-07-03T00:28:03.578452Z",
     "start_time": "2022-07-03T00:28:00.814764Z"
    }
   },
   "outputs": [
    {
     "name": "stdout",
     "output_type": "stream",
     "text": [
      "Introduce una frase: hola mundo\n"
     ]
    },
    {
     "data": {
      "text/plain": [
       "'.... --- .-.. .-  -- ..- -. -.. --- '"
      ]
     },
     "execution_count": 33,
     "metadata": {},
     "output_type": "execute_result"
    }
   ],
   "source": [
    "toMorse()"
   ]
  },
  {
   "cell_type": "markdown",
   "id": "7b643751",
   "metadata": {},
   "source": [
    "## Pregunta 5\n",
    "Crea una función que dados dos diccionarios nos diga qué claves están presentes en ambos.\n"
   ]
  },
  {
   "cell_type": "code",
   "execution_count": 34,
   "id": "75928d2b",
   "metadata": {
    "ExecuteTime": {
     "end_time": "2022-07-03T00:32:08.853975Z",
     "start_time": "2022-07-03T00:32:08.847414Z"
    }
   },
   "outputs": [],
   "source": [
    "def clavesIguales(d1,d2):\n",
    "    l = []\n",
    "    for key in d1:\n",
    "        if key in d2:\n",
    "            l.append(key)\n",
    "    return l"
   ]
  },
  {
   "cell_type": "code",
   "execution_count": 35,
   "id": "e217bfb5",
   "metadata": {
    "ExecuteTime": {
     "end_time": "2022-07-03T00:33:59.497287Z",
     "start_time": "2022-07-03T00:33:59.491106Z"
    }
   },
   "outputs": [
    {
     "name": "stdout",
     "output_type": "stream",
     "text": [
      "['a']\n"
     ]
    }
   ],
   "source": [
    "d1 = {\"a\": 1, \"b\":2, \"c\":3}\n",
    "d2 = {\"x\":4, \"a\":[1,2,3,4]}\n",
    "print(clavesIguales(d1,d2))"
   ]
  },
  {
   "cell_type": "markdown",
   "id": "d47aa3d5",
   "metadata": {},
   "source": [
    "## Pregunta 6\n",
    "Crea una función que dado un número N nos diga si es primo o no (tiene que ir dividiendo por todos los números x comprendidos entre 2 y el número N − 1 y ver si la división de Nx tiene resto cero o no).\n"
   ]
  },
  {
   "cell_type": "code",
   "execution_count": 37,
   "id": "67cee45b",
   "metadata": {
    "ExecuteTime": {
     "end_time": "2022-07-03T03:23:14.493561Z",
     "start_time": "2022-07-03T03:23:14.487066Z"
    }
   },
   "outputs": [],
   "source": [
    "def isPrime(N):\n",
    "    prime = True\n",
    "    for n in range(2, N):\n",
    "        if N % n == 0:\n",
    "            prime = False\n",
    "    return prime"
   ]
  },
  {
   "cell_type": "code",
   "execution_count": 40,
   "id": "4c5c0189",
   "metadata": {
    "ExecuteTime": {
     "end_time": "2022-07-03T03:24:12.467396Z",
     "start_time": "2022-07-03T03:24:12.463253Z"
    }
   },
   "outputs": [
    {
     "name": "stdout",
     "output_type": "stream",
     "text": [
      "True\n"
     ]
    }
   ],
   "source": [
    "print(isPrime(11))"
   ]
  },
  {
   "cell_type": "code",
   "execution_count": 41,
   "id": "baae9099",
   "metadata": {
    "ExecuteTime": {
     "end_time": "2022-07-03T03:24:15.423229Z",
     "start_time": "2022-07-03T03:24:15.419428Z"
    }
   },
   "outputs": [
    {
     "name": "stdout",
     "output_type": "stream",
     "text": [
      "False\n"
     ]
    }
   ],
   "source": [
    "print(isPrime(8))"
   ]
  },
  {
   "cell_type": "markdown",
   "id": "d1e31436",
   "metadata": {
    "ExecuteTime": {
     "end_time": "2022-07-03T03:16:14.508665Z",
     "start_time": "2022-07-03T03:16:14.501747Z"
    }
   },
   "source": [
    "## Pregunta 7\n",
    "Investiga la documentación de la clase string y crea un método que lea una frase del teclado y escriba la primera letra de cada palabra en Mayúscula.\n"
   ]
  },
  {
   "cell_type": "code",
   "execution_count": 49,
   "id": "39f1bf00",
   "metadata": {
    "ExecuteTime": {
     "end_time": "2022-07-03T03:29:33.192025Z",
     "start_time": "2022-07-03T03:29:33.188375Z"
    }
   },
   "outputs": [],
   "source": [
    "def stringMayuscula(string):\n",
    "    frase = string.title()\n",
    "    return frase"
   ]
  },
  {
   "cell_type": "code",
   "execution_count": 50,
   "id": "bb564917",
   "metadata": {
    "ExecuteTime": {
     "end_time": "2022-07-03T03:29:33.687795Z",
     "start_time": "2022-07-03T03:29:33.682509Z"
    }
   },
   "outputs": [
    {
     "name": "stdout",
     "output_type": "stream",
     "text": [
      "Hola Mundo Este Curso Es El Mejor\n"
     ]
    }
   ],
   "source": [
    "print(stringMayuscula(\"hola mundo este Curso es el mejor\"))"
   ]
  },
  {
   "cell_type": "markdown",
   "id": "62c207c0",
   "metadata": {},
   "source": [
    "## Pregunta 8\n",
    "Crea una función que calcule el máximo común divisor de dos números introducidos por el usuario por teclado."
   ]
  },
  {
   "cell_type": "code",
   "execution_count": 52,
   "id": "296d6b1a",
   "metadata": {
    "ExecuteTime": {
     "end_time": "2022-07-03T03:31:33.496662Z",
     "start_time": "2022-07-03T03:31:33.489773Z"
    }
   },
   "outputs": [],
   "source": [
    "def MCD(m, n):\n",
    "    divisores_m = []\n",
    "    divisores_n = []\n",
    "    for i in range(1, m+1):\n",
    "        if m % i == 0:\n",
    "            divisores_m.append(i)\n",
    "    for i in range(1, n+1):\n",
    "        if n % i == 0:\n",
    "            divisores_n.append(i)\n",
    "    cme = set(divisores_m) & set(divisores_n) #Utilizando conjuntos =)\n",
    "    return max(list(cme))"
   ]
  },
  {
   "cell_type": "code",
   "execution_count": 53,
   "id": "f8c5ff68",
   "metadata": {
    "ExecuteTime": {
     "end_time": "2022-07-03T03:31:34.046052Z",
     "start_time": "2022-07-03T03:31:34.041891Z"
    }
   },
   "outputs": [
    {
     "name": "stdout",
     "output_type": "stream",
     "text": [
      "4\n"
     ]
    }
   ],
   "source": [
    "print(MCD(4, 12))"
   ]
  },
  {
   "cell_type": "markdown",
   "id": "98090e4f",
   "metadata": {},
   "source": []
  },
  {
   "cell_type": "markdown",
   "id": "4e88d6b5",
   "metadata": {},
   "source": [
    "## Pregunta 9\n",
    "Investiga el Cifrado del César y crea una función que lo reproduzca en Python. Cada letra del mensaje original se desplaza tres posiciones en el alfabeto estándar. La A se convierte en la D, la B se convierte en la E, la C se convierte en la F. . . y cuando se acaba el alfabeto se le vuelve a dar la vuelta: la X se convierte en la A, la Y en la B y la X en la C. Los números no sufren ninguna modificación."
   ]
  },
  {
   "cell_type": "code",
   "execution_count": 5,
   "id": "fad2a591",
   "metadata": {
    "ExecuteTime": {
     "end_time": "2022-07-04T11:53:53.079776Z",
     "start_time": "2022-07-04T11:53:53.075702Z"
    }
   },
   "outputs": [],
   "source": [
    "def cifradodCesar(letra):\n",
    "    letra = letra.upper()\n",
    "    cesar = 65 + (ord(letra) -65 +3) % 26\n",
    "    return chr(cesar)"
   ]
  },
  {
   "cell_type": "code",
   "execution_count": 7,
   "id": "e6c3d715",
   "metadata": {
    "ExecuteTime": {
     "end_time": "2022-07-04T11:54:07.440984Z",
     "start_time": "2022-07-04T11:54:07.422766Z"
    }
   },
   "outputs": [
    {
     "data": {
      "text/plain": [
       "'K'"
      ]
     },
     "execution_count": 7,
     "metadata": {},
     "output_type": "execute_result"
    }
   ],
   "source": [
    "cifradodCesar(\"h\")"
   ]
  },
  {
   "cell_type": "markdown",
   "id": "8e70003f",
   "metadata": {},
   "source": [
    "## Pregunta 10\n",
    "Dado una lista de nombres de persona, escribe una función que los ordene de tres formas diferentes: \n",
    "\n",
    "- A De forma alfabética\n",
    "- B De forma alfabética invertida\n",
    "- C De nombre más corto al más largo."
   ]
  },
  {
   "cell_type": "code",
   "execution_count": 8,
   "id": "8a09bdff",
   "metadata": {
    "ExecuteTime": {
     "end_time": "2022-07-04T11:54:44.557258Z",
     "start_time": "2022-07-04T11:54:44.551017Z"
    }
   },
   "outputs": [
    {
     "data": {
      "text/plain": [
       "['Aurelio', 'Blanca', 'Carlitos', 'Felicitas', 'Marc', 'Paz']"
      ]
     },
     "execution_count": 8,
     "metadata": {},
     "output_type": "execute_result"
    }
   ],
   "source": [
    "nombres=[\"Marc\", \"Aurelio\", \"Blanca\", \"Paz\", \"Carlitos\", \"Felicitas\"]\n",
    "sorted(nombres)"
   ]
  },
  {
   "cell_type": "code",
   "execution_count": 9,
   "id": "aa04e516",
   "metadata": {
    "ExecuteTime": {
     "end_time": "2022-07-04T11:55:22.845995Z",
     "start_time": "2022-07-04T11:55:22.840095Z"
    }
   },
   "outputs": [
    {
     "data": {
      "text/plain": [
       "['Paz', 'Marc', 'Felicitas', 'Carlitos', 'Blanca', 'Aurelio']"
      ]
     },
     "execution_count": 9,
     "metadata": {},
     "output_type": "execute_result"
    }
   ],
   "source": [
    "sorted(nombres, reverse = True)"
   ]
  },
  {
   "cell_type": "code",
   "execution_count": 10,
   "id": "c508387d",
   "metadata": {
    "ExecuteTime": {
     "end_time": "2022-07-04T11:55:51.572102Z",
     "start_time": "2022-07-04T11:55:51.566622Z"
    }
   },
   "outputs": [
    {
     "data": {
      "text/plain": [
       "['Paz', 'Marc', 'Blanca', 'Aurelio', 'Carlitos', 'Felicitas']"
      ]
     },
     "execution_count": 10,
     "metadata": {},
     "output_type": "execute_result"
    }
   ],
   "source": [
    "sorted(nombres, key = lambda x: len(x))"
   ]
  },
  {
   "cell_type": "code",
   "execution_count": null,
   "id": "8fadd06e",
   "metadata": {},
   "outputs": [],
   "source": []
  }
 ],
 "metadata": {
  "kernelspec": {
   "display_name": "Python 3 (ipykernel)",
   "language": "python",
   "name": "python3"
  },
  "language_info": {
   "codemirror_mode": {
    "name": "ipython",
    "version": 3
   },
   "file_extension": ".py",
   "mimetype": "text/x-python",
   "name": "python",
   "nbconvert_exporter": "python",
   "pygments_lexer": "ipython3",
   "version": "3.9.12"
  },
  "toc": {
   "base_numbering": 1,
   "nav_menu": {},
   "number_sections": true,
   "sideBar": true,
   "skip_h1_title": false,
   "title_cell": "Table of Contents",
   "title_sidebar": "Contents",
   "toc_cell": false,
   "toc_position": {},
   "toc_section_display": true,
   "toc_window_display": false
  },
  "varInspector": {
   "cols": {
    "lenName": 16,
    "lenType": 16,
    "lenVar": 40
   },
   "kernels_config": {
    "python": {
     "delete_cmd_postfix": "",
     "delete_cmd_prefix": "del ",
     "library": "var_list.py",
     "varRefreshCmd": "print(var_dic_list())"
    },
    "r": {
     "delete_cmd_postfix": ") ",
     "delete_cmd_prefix": "rm(",
     "library": "var_list.r",
     "varRefreshCmd": "cat(var_dic_list()) "
    }
   },
   "types_to_exclude": [
    "module",
    "function",
    "builtin_function_or_method",
    "instance",
    "_Feature"
   ],
   "window_display": false
  }
 },
 "nbformat": 4,
 "nbformat_minor": 5
}

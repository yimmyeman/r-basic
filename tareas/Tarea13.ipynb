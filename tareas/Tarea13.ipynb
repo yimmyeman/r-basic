{
 "cells": [
  {
   "cell_type": "code",
   "execution_count": 1,
   "id": "4c524953",
   "metadata": {
    "ExecuteTime": {
     "end_time": "2022-07-04T20:02:31.516134Z",
     "start_time": "2022-07-04T20:02:31.511524Z"
    }
   },
   "outputs": [],
   "source": [
    "import numpy as np"
   ]
  },
  {
   "cell_type": "markdown",
   "id": "a872f2d7",
   "metadata": {},
   "source": [
    "# Pregunta 1\n",
    "\n",
    "Da el algoritmo para reproducir el proceso de generación de clases y sus marcas donde el número de clases ha sido obtenido con la regla de la Scott en Python.\n"
   ]
  },
  {
   "cell_type": "code",
   "execution_count": 2,
   "id": "c6a82164",
   "metadata": {
    "ExecuteTime": {
     "end_time": "2022-07-04T20:02:33.617882Z",
     "start_time": "2022-07-04T20:02:33.612682Z"
    }
   },
   "outputs": [],
   "source": [
    "def scott(data):\n",
    "   num_data = 1/(len(data))**(1/3)    \n",
    "   num_bins = int(np.ceil(3.5*(np.std(data))*num_data))\n",
    "   print(num_bins)\n",
    "   return num_bins"
   ]
  },
  {
   "cell_type": "markdown",
   "id": "0cfe6afc",
   "metadata": {},
   "source": [
    "# Pregunta 2\n",
    "Da el algoritmo para reproducir el proceso de generación de clases y sus marcas donde el número de clases ha sido obtenido con la regla de la raíz en Python."
   ]
  },
  {
   "cell_type": "code",
   "execution_count": 4,
   "id": "6cf0787f",
   "metadata": {
    "ExecuteTime": {
     "end_time": "2022-07-04T20:03:26.390777Z",
     "start_time": "2022-07-04T20:03:26.386520Z"
    }
   },
   "outputs": [],
   "source": [
    "def raiz(data):\n",
    "   num_data = len(data)\n",
    "   num_bins = int(np.ceil(np.sqrt(num_data)))    \n",
    "   print(num_bins)\n",
    "   return num_bins"
   ]
  },
  {
   "cell_type": "markdown",
   "id": "0118793f",
   "metadata": {},
   "source": [
    "# Pregunta 3\n",
    "Da el algoritmo para reproducir el proceso de generación de clases y sus marcas donde el número de clases ha sido obtenido con la regla de la Sturges en Python."
   ]
  },
  {
   "cell_type": "code",
   "execution_count": 5,
   "id": "f0736906",
   "metadata": {
    "ExecuteTime": {
     "end_time": "2022-07-04T20:03:27.015980Z",
     "start_time": "2022-07-04T20:03:27.011667Z"
    }
   },
   "outputs": [],
   "source": [
    "def sturges(data):\n",
    "   # para numero datos mayores de 30\n",
    "   num_data = len(data)\n",
    "   num_bins = 1 + int(np.log2(num_data))\n",
    "   print(num_bins)\n",
    "   return num_bins"
   ]
  },
  {
   "cell_type": "markdown",
   "id": "3137d673",
   "metadata": {},
   "source": [
    "# Pregunta 4\n",
    "Da el algoritmo para reproducir el proceso de generación de clases y sus marcas donde el número de clases ha sido obtenido con la regla de la Freedman-Diaconis en Python."
   ]
  },
  {
   "cell_type": "code",
   "execution_count": null,
   "id": "481c0268",
   "metadata": {},
   "outputs": [],
   "source": [
    "def freedman_diaconis(data):\n",
    "   num_data = len(data)\n",
    "   irq = np.percentile(data, 75) - np.percentile(data, 25)\n",
    "   bin_width = 2 * irq / np.power(num_data, 1/3)\n",
    "   num_bins = int((np.max(data) -  np.min(data)) / bin_width)  + 1\n",
    "   print(num_bins)\n",
    "   return num_bins"
   ]
  }
 ],
 "metadata": {
  "kernelspec": {
   "display_name": "Python 3 (ipykernel)",
   "language": "python",
   "name": "python3"
  },
  "language_info": {
   "codemirror_mode": {
    "name": "ipython",
    "version": 3
   },
   "file_extension": ".py",
   "mimetype": "text/x-python",
   "name": "python",
   "nbconvert_exporter": "python",
   "pygments_lexer": "ipython3",
   "version": "3.9.12"
  },
  "toc": {
   "base_numbering": 1,
   "nav_menu": {},
   "number_sections": true,
   "sideBar": true,
   "skip_h1_title": false,
   "title_cell": "Table of Contents",
   "title_sidebar": "Contents",
   "toc_cell": false,
   "toc_position": {},
   "toc_section_display": true,
   "toc_window_display": false
  },
  "varInspector": {
   "cols": {
    "lenName": 16,
    "lenType": 16,
    "lenVar": 40
   },
   "kernels_config": {
    "python": {
     "delete_cmd_postfix": "",
     "delete_cmd_prefix": "del ",
     "library": "var_list.py",
     "varRefreshCmd": "print(var_dic_list())"
    },
    "r": {
     "delete_cmd_postfix": ") ",
     "delete_cmd_prefix": "rm(",
     "library": "var_list.r",
     "varRefreshCmd": "cat(var_dic_list()) "
    }
   },
   "types_to_exclude": [
    "module",
    "function",
    "builtin_function_or_method",
    "instance",
    "_Feature"
   ],
   "window_display": false
  }
 },
 "nbformat": 4,
 "nbformat_minor": 5
}
